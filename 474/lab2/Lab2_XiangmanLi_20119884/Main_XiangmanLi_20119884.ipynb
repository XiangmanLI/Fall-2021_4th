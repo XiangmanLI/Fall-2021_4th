{
 "cells": [
  {
   "cell_type": "code",
   "execution_count": 1,
   "id": "50fc0d25-bccf-400c-a7b7-c0ee49ef26a9",
   "metadata": {},
   "outputs": [],
   "source": [
    "import cv2 as cv\n",
    "import random\n",
    "import numpy as np\n",
    "import sklearn as sk\n",
    "import math\n",
    "from matplotlib import pyplot as plt"
   ]
  },
  {
   "cell_type": "markdown",
   "id": "afdaab10-ca66-4e32-8bfb-31aa275a28f5",
   "metadata": {},
   "source": [
    " You should create a track bar to select and experiment with different values of 𝒌."
   ]
  },
  {
   "cell_type": "code",
   "execution_count": 2,
   "id": "31f615eb-574d-45e0-acd8-265bc39a6d35",
   "metadata": {},
   "outputs": [],
   "source": [
    "def callTrackbar(*args):\n",
    "    k = cv.getTrackbarPos(\"K\", \"Controls\")"
   ]
  },
  {
   "cell_type": "markdown",
   "id": "51530be0-432d-4916-bdfb-e7ac12e2ab56",
   "metadata": {},
   "source": [
    "Your randomly selected initial cluster centers, { ci }, i = 1..k, should have associated color channel intensities, as they will be used to calculate your \n",
    "means."
   ]
  },
  {
   "cell_type": "code",
   "execution_count": 3,
   "id": "2fbbf1f6-ffbc-45a8-8bc9-5a40584e9477",
   "metadata": {},
   "outputs": [],
   "source": [
    "def randCentP(k):\n",
    "    points = []\n",
    "    for i in range(k):\n",
    "        randX = random.randint(0, img.shape[0]-1)\n",
    "        randY = random.randint(0,img.shape[1]-1)\n",
    "        points.append([[randX,randY]])\n",
    "        points[i].append(img[randX][randY].copy())\n",
    "    return points"
   ]
  },
  {
   "cell_type": "markdown",
   "id": "91ca34b4-a799-4daf-b767-a2bdf15d3b5e",
   "metadata": {},
   "source": [
    "Find the difference between the Center's color and the nighbour's color. The princple of this function is contrast the distance that this point to the k center point. "
   ]
  },
  {
   "cell_type": "code",
   "execution_count": 4,
   "id": "aa82fca4-74d7-4fa4-bde6-7449bd9f8de0",
   "metadata": {},
   "outputs": [],
   "source": [
    "def colordiff(a,b):\n",
    "    power = []\n",
    "    for i in range(3):\n",
    "        power.append(math.pow(int(a[i])-int(b[i]),2))\n",
    "    colordiff = math.sqrt(power[0] + power[1] + power[2])\n",
    "    return colordiff"
   ]
  },
  {
   "cell_type": "markdown",
   "id": "6d9cdb04-7144-43a7-be69-28f3be2effca",
   "metadata": {},
   "source": [
    "compare its value to a threshold to determine how close the mean is so the cluster center."
   ]
  },
  {
   "cell_type": "code",
   "execution_count": 5,
   "id": "495e32ac-9ee2-45bd-b8c4-2df20f6783f6",
   "metadata": {},
   "outputs": [],
   "source": [
    "def Rangethreshold(a, b, threshold):\n",
    "    for i in range(3):\n",
    "        if(abs(a[i]-b[i]) > threshold):\n",
    "            return False\n",
    "    return True"
   ]
  },
  {
   "cell_type": "markdown",
   "id": "240cb51b-c7f4-4049-8243-31e70f8de0b4",
   "metadata": {},
   "source": [
    "Voronoi Regions"
   ]
  },
  {
   "cell_type": "code",
   "execution_count": 6,
   "id": "e874fc11-b876-4053-97fa-26835d694fea",
   "metadata": {},
   "outputs": [],
   "source": [
    "def VoronoiRegions(centerP, img, k, threshold):\n",
    "    find = False\n",
    "    while(find == False):\n",
    "        Clu_centers = []\n",
    "        sumValue = []\n",
    "        NumPoint = []\n",
    "        neibour = []\n",
    "        for i in range(k):\n",
    "            Clu_centers.append([])       \n",
    "            sumValue.append([])\n",
    "            NumPoint.append(0)\n",
    "        for i in range(img.shape[0]):\n",
    "            for j in range(img.shape[1]):\n",
    "                Corres_pix = []\n",
    "                for n in range(k):\n",
    "                    #check the difference between the point and each centre points\n",
    "                    Corres_pix.append(colordiff(centerP[n][1],img[i][j]))\n",
    "                #output the index that content the minimum difference\n",
    "                minidx = np.argmin(Corres_pix)\n",
    "                #input the value to the Cluster Centers and their Corresponding Voronoi Region Pixels\n",
    "                Clu_centers[minidx].append([i,j])\n",
    "                sumValue[minidx].append(img[i][j])\n",
    "                NumPoint[minidx] = NumPoint[minidx]+ 1\n",
    "        #if the difference larger than threshold,then go to the while loop again \n",
    "        for i in range(k):\n",
    "            #check the mean of the difference\n",
    "            sumValue[i] = np.mean(sumValue[i], axis = 0)\n",
    "            if (Rangethreshold(centerP[i][1], sumValue[i],threshold) == False):\n",
    "                neibour.append(i)\n",
    "                find = False\n",
    "                break\n",
    "            else:\n",
    "                find = True\n",
    "        if(find == True):\n",
    "            for i in neibour:\n",
    "                centerP[i][1] = sumValue[i].copy()\n",
    "    for i in range(k):\n",
    "        Change = sumValue[i].copy()\n",
    "        for current in Clu_centers[i]:\n",
    "            img[current[0]][current[1]] = Change.copy()\n",
    "    return(img)"
   ]
  },
  {
   "cell_type": "markdown",
   "id": "24f6556a-3aac-4800-a10a-e91b6a649bd9",
   "metadata": {},
   "source": [
    "Kmean function"
   ]
  },
  {
   "cell_type": "code",
   "execution_count": 7,
   "id": "a7c34cae-c747-4739-bfb4-e1be50835c77",
   "metadata": {},
   "outputs": [],
   "source": [
    "def kMeans(img):\n",
    "    k = cv.getTrackbarPos(\"K\", \"Controls\")\n",
    "    centerP = randCentP(k)\n",
    "    threshold = round(255/k)\n",
    "    VoronoiRegions(centerP, img, k, threshold)\n",
    "    return k"
   ]
  },
  {
   "cell_type": "markdown",
   "id": "93d267ef-ffec-4f57-94c2-2d1d6dc0abd1",
   "metadata": {},
   "source": [
    "Mean Function (click Enter after change the bar)"
   ]
  },
  {
   "cell_type": "code",
   "execution_count": 8,
   "id": "8735af68-22a3-4b51-b19f-231330192024",
   "metadata": {},
   "outputs": [],
   "source": [
    "img = cv.imread(\"SAFlag.jpg\")\n",
    "k = 0\n",
    "index = 0\n",
    "cv.namedWindow('Controls', cv.WINDOW_NORMAL)\n",
    "cv.resizeWindow('Controls', 800, 50)\n",
    "cv.createTrackbar(\"K\", 'Controls', 1, 30, callTrackbar)\n",
    "while True:\n",
    "    cv.imshow(\"SAFlag\", img)\n",
    "    key = cv.waitKey(1)\n",
    "    if key == 27:\n",
    "        break\n",
    "    if key == 13:\n",
    "        k = kMeans(img)\n",
    "res = img.copy()\n",
    "cv.destroyAllWindows()"
   ]
  },
  {
   "cell_type": "code",
   "execution_count": 9,
   "id": "6c3107ad-2366-4622-a6bb-b2e6c98be9bb",
   "metadata": {},
   "outputs": [],
   "source": [
    "img = cv.imread(\"Baboon.jpg\")\n",
    "k = 0\n",
    "index = 0\n",
    "cv.namedWindow('Controls', cv.WINDOW_NORMAL)\n",
    "cv.resizeWindow('Controls', 800, 50)\n",
    "cv.createTrackbar(\"K\", 'Controls', 1, 30, callTrackbar)\n",
    "while True:\n",
    "    cv.imshow(\"Baboon\", img)\n",
    "    key=cv.waitKey(1)\n",
    "    if key==27: #if key pressed is esc\n",
    "        break\n",
    "    if key==13:\n",
    "        k = kMeans(img)\n",
    "res = img.copy()\n",
    "cv.destroyAllWindows()"
   ]
  }
 ],
 "metadata": {
  "kernelspec": {
   "display_name": "Python 3",
   "language": "python",
   "name": "python3"
  },
  "language_info": {
   "codemirror_mode": {
    "name": "ipython",
    "version": 3
   },
   "file_extension": ".py",
   "mimetype": "text/x-python",
   "name": "python",
   "nbconvert_exporter": "python",
   "pygments_lexer": "ipython3",
   "version": "3.8.8"
  }
 },
 "nbformat": 4,
 "nbformat_minor": 5
}
