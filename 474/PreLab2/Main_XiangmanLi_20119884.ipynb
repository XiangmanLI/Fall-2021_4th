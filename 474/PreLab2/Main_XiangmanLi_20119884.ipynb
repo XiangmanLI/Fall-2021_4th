{
 "cells": [
  {
   "cell_type": "code",
   "execution_count": 1,
   "id": "38a3f1a8-26c0-496f-afbe-c293d296a8bc",
   "metadata": {},
   "outputs": [],
   "source": [
    "import cv2 \n",
    "import numpy as np\n",
    "import sklearn as sk\n",
    "from matplotlib import pyplot"
   ]
  },
  {
   "cell_type": "markdown",
   "id": "4f1c426d-2fb0-47a0-9979-4803def3bae7",
   "metadata": {},
   "source": [
    "Implement a trackbar that modifies an intensity threshold value, which will be used in the homogeneity criterion to determine membership in the filled region.\n",
    "Use of global variables will be necessary for the mouse and trackbar callback functions."
   ]
  },
  {
   "cell_type": "code",
   "execution_count": 2,
   "id": "83610aee-0598-4ed3-b340-a045a9271208",
   "metadata": {},
   "outputs": [],
   "source": [
    "def set_threshold(*args):\n",
    "    threshold = cv2.getTrackbarPos(\"Intensity\", \"Controls\")"
   ]
  },
  {
   "cell_type": "markdown",
   "id": "9d5a8c00-51ed-4eba-9926-99b8ab542cba",
   "metadata": {},
   "source": [
    "Calculate the difference between current seed and inital seed\n",
    "The intensity data type is uint8"
   ]
  },
  {
   "cell_type": "code",
   "execution_count": 3,
   "id": "c1c8b9b0-45c0-4191-881e-998bede841b8",
   "metadata": {},
   "outputs": [],
   "source": [
    "def different(x, y):\n",
    "        if(x<y):\n",
    "            return y-x\n",
    "        else:\n",
    "            return x-y"
   ]
  },
  {
   "cell_type": "markdown",
   "id": "a497bbc5-1163-426b-8160-bc7a0242784b",
   "metadata": {},
   "source": [
    "Check whether the different of the points less/larger than threshold"
   ]
  },
  {
   "cell_type": "code",
   "execution_count": 4,
   "id": "8435de55-6e55-494c-8a24-03137928b528",
   "metadata": {},
   "outputs": [],
   "source": [
    "def change(seed_copy, pix, threshold):\n",
    "        current = img[pix[0]][pix[1]]\n",
    "        dif0 = different(seed_copy[0], current[0])\n",
    "        dif0 = different(seed_copy[1], current[1])\n",
    "        dif2 = different(seed_copy[2], current[2])\n",
    "        chag = (dif0 <= threshold) and (dif0 <= threshold) and (dif2 <= threshold)\n",
    "        return chag"
   ]
  },
  {
   "cell_type": "markdown",
   "id": "dd6e0e6a-a93a-4fa9-bf27-0ee3767498b4",
   "metadata": {},
   "source": [
    "Flood fill function \n",
    "I used 4-connectivety to find neighbours\n",
    "The definition of your homogeneity criterion: Select seeds only from objects of interest (e.g. bright structures, dark structure, color range, etc)."
   ]
  },
  {
   "cell_type": "code",
   "execution_count": 5,
   "id": "69003c15-097c-4176-a27b-2543c8a54ba5",
   "metadata": {},
   "outputs": [],
   "source": [
    "def flood_fill(event, x, y, flags, param):\n",
    "    if event == cv2.EVENT_LBUTTONUP:\n",
    "\n",
    "        threshold = cv2.getTrackbarPos(\"Intensity\", \"Controls\")\n",
    "        seed = [y,x]\n",
    "        seed_copy = np.copy(img[y][x])\n",
    "        #have to make sure that you don’t visit a pixel more than once, which can lead to an infinite loop.\n",
    "        check = np.zeros([img_size[0],img_size[1]])\n",
    "        check[y,x] = 1\n",
    "        #Create a stack to keep track of possible candidates to fill.\n",
    "        stack.append([y,x])\n",
    "        \n",
    "        #Pop a pixel from your stack, which is the current pixel\n",
    "        while(len(stack)!=0):\n",
    "            current = stack.pop()\n",
    "            change(seed_copy,current, threshold)\n",
    "            \n",
    "            img[current[0],current[1]] = [255,0,0]\n",
    "                \n",
    "            #find neighbour  \n",
    "            left_pixel = [max(current[0]-1, 0),current[1]]\n",
    "            right_pixel = [min(current[0]+1,img_size[0] -1),current[1]] \n",
    "            left = [max(current[0]-1, 0)]\n",
    "            right = [min(current[0]+1,511)]\n",
    "            up_pixel = [current[0],min(current[1]+1,img_size[1] -1)]              \n",
    "            down_pixel = [current[0],max(current[1]-1,0)] \n",
    "            up = [min(current[1]+1,511)]\n",
    "            down = [max(current[1]-1,0)]\n",
    "\n",
    "                \n",
    "            if(change(seed_copy, down_pixel, threshold) and not check[current[0]][max(current[1]-1,0)]):\n",
    "                stack.append(down_pixel)\n",
    "                check[current[0]][max(current[1]-1,0)] = 1\n",
    "            \n",
    "            if(change(seed_copy, left_pixel, threshold) and not check[max(current[0]-1, 0)][current[1]]):\n",
    "                stack.append(left_pixel)\n",
    "                check[max(current[0]-1, 0)][current[1]] = 1\n",
    "            \n",
    "               \n",
    "            if(change(seed_copy, right_pixel, threshold) and not check[min(current[0]+1,511)][current[1]]):\n",
    "                stack.append(right_pixel)\n",
    "                check[min(current[0]+1,511)][current[1]] = 1\n",
    "            \n",
    "            if(change(seed_copy, up_pixel, threshold) and not check[current[0]][min(current[1]+1,511)]):\n",
    "                stack.append(up_pixel)\n",
    "                check[current[0]][min(current[1]+1,511)] = 1\n",
    "        \n"
   ]
  },
  {
   "cell_type": "markdown",
   "id": "228c335f-2eee-47ad-adf4-532fc741d905",
   "metadata": {},
   "source": [
    "Main function\n",
    "Import picture and window information\n",
    "Add two imread function, one is for baboon1.png, the others is my own picture"
   ]
  },
  {
   "cell_type": "code",
   "execution_count": 6,
   "id": "750e16a1-e38d-428c-884f-f8823070af90",
   "metadata": {},
   "outputs": [],
   "source": [
    "#img = cv2.imread(\"baboon1.png\")\n",
    "img = cv2.imread(\"loulou.png\")\n",
    "#Global Variables\n",
    "stack = []\n",
    "threshold = 0\n",
    "img_size = [img.shape[0], img.shape[1]]\n",
    "cv2.namedWindow('Controls', cv2.WINDOW_AUTOSIZE)\n",
    "cv2.resizeWindow('Controls', 800, 50)\n",
    "cv2.createTrackbar(\"Intensity\", 'Controls', 1, 255, set_threshold)\n",
    "while True:\n",
    "    cv2.imshow(\"Baboon\", img)\n",
    "    cv2.setMouseCallback(\"Baboon\", flood_fill, [stack,img])\n",
    "    k=cv2.waitKey(1)\n",
    "    if k==27: \n",
    "        break\n",
    "cv2.destroyAllWindows()"
   ]
  }
 ],
 "metadata": {
  "kernelspec": {
   "display_name": "Python 3",
   "language": "python",
   "name": "python3"
  },
  "language_info": {
   "codemirror_mode": {
    "name": "ipython",
    "version": 3
   },
   "file_extension": ".py",
   "mimetype": "text/x-python",
   "name": "python",
   "nbconvert_exporter": "python",
   "pygments_lexer": "ipython3",
   "version": "3.8.8"
  }
 },
 "nbformat": 4,
 "nbformat_minor": 5
}
